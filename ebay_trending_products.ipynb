{
 "cells": [
  {
   "cell_type": "markdown",
   "metadata": {},
   "source": [
    "# Assignment: Ebay trending products\n",
    "\n",
    "In this assignment you gonna scrape Ebay trending products page using Requests and LXML.\n",
    "\n",
    "## Assignemnt instructions\n",
    "\n",
    "**Target web page**: https://www.ebay.com/trending -> atualmente é https://www.ebay.com/globaldeals/trending/all\n",
    "\n",
    "In this assignment you will **scrape all the trending products from Ebay**, each trending product looks like this:\n",
    "\n",
    "![war of the spark](https://img-c.udemycdn.com/redactor/raw/2019-05-02_19-06-59-edd90983178656d3901c05b668e2afe1.PNG)\n",
    "\n",
    "We have the **title**(which contains the **URL** too), the **product description**, **amount of searches** and some **related items** to the product itself.\n",
    "\n",
    "From each trending product I want you to scrape the following:\n",
    "\n",
    "1. Title\n",
    "2. URL\n",
    "3. Description(info)\n",
    "4. Amount of searches\n",
    "\n",
    "Finally make sure to store all the scraped trending products in a JSON file.\n",
    "\n",
    "A sample of a JSON file with one trending products(yours MUST contain ALL the products)\n",
    "\n",
    "```json\n",
    "{\n",
    "  \"name\": \"War of the Spark\",\n",
    "  \"url\": \"https://www.ebay.com/sch/i.html?rt=nc&_nkw=War+of+the+Spark&_trksid=p2245348.m3768.l6570&_trkparms=topicId%3D7389&_trksid=p2245348.m3768.l6569&_trkparms=topicId%3D7389\",\n",
    "  \"info\": \"Wizards of the Coast is calling War of the Spark its most ambitious Magic: The Gathering set ever. The extra special Mythic Edition includes eight Masterpiece cards with foil designs and full-bleed artwork.\",\n",
    "  \"searches\": \"10599\"\n",
    "}\n",
    "```\n",
    "\n",
    "If you did face some issues or you couldn't understand something please ask me in the Q&A area and make sure to use [Assignment] tag."
   ]
  },
  {
   "cell_type": "markdown",
   "metadata": {},
   "source": [
    "## Meu código:"
   ]
  },
  {
   "cell_type": "code",
   "execution_count": 49,
   "metadata": {},
   "outputs": [],
   "source": [
    "import requests\n",
    "import re\n",
    "\n",
    "from lxml import html\n",
    "\n",
    "import json\n",
    "import csv\n",
    "\n",
    "from datetime import date"
   ]
  },
  {
   "cell_type": "markdown",
   "metadata": {},
   "source": [
    "Definindo as funcoes de escrever arquivos"
   ]
  },
  {
   "cell_type": "code",
   "execution_count": 46,
   "metadata": {},
   "outputs": [],
   "source": [
    "todayString = '[' + date.today().strftime(\"%Y-%m-%d--%H-%M\") + ']'\n",
    "\n",
    "\n",
    "def writeToJson(products):\n",
    "    with open(f\"{todayString} - products.json\", 'w', newline='', encoding='UTF-8') as f:\n",
    "        f.write(json.dumps(products, ensure_ascii=False))\n",
    "\n",
    "\n",
    "def writeToCSV(products, headers):\n",
    "    with open(f\"{todayString} - products.csv\", 'w', newline='', encoding='utf-8') as f:\n",
    "        writer = csv.DictWriter(f, headers)\n",
    "        writer.writeheader()\n",
    "        writer.writerows(products)\n"
   ]
  },
  {
   "cell_type": "code",
   "execution_count": null,
   "metadata": {},
   "outputs": [],
   "source": [
    "resp = requests.get(url='https://www.ebay.com/globaldeals/trending/all')\n",
    "print(resp.text)"
   ]
  },
  {
   "cell_type": "code",
   "execution_count": 96,
   "metadata": {},
   "outputs": [],
   "source": [
    "tree = html.fromstring(html=resp.text)\n",
    "\n",
    "all_products = []\n",
    "\n",
    "trending_items = tree.xpath(\n",
    "    \"//div[contains(@itemscope, 'itemscope')]/div[@class='dne-itemtile-detail']\")\n",
    "\n",
    "for trending_item in trending_items:\n",
    "    item = {\n",
    "        'name': ''.join(map(str.strip, trending_item.xpath(\".//h3//span[@itemprop='name']/text()\"))),\n",
    "        'url': trending_item.xpath(\".//a[@itemprop='url']/@href\")[0],\n",
    "        'price': trending_item.xpath(\".//div[contains(@class, 'price')]//span[@itemprop='price']/text()\")[0],\n",
    "        'priceNumber': ''\n",
    "    }\n",
    "    formatedPrice = ''.join(re.findall(r\"\\S\", item['price']))\n",
    "    item['priceNumber'] = ''.join(re.compile(r'(\\d+[(\\.|,)]\\d+)').findall(formatedPrice))\n",
    "    all_products.append(item)\n",
    "\n",
    "# print(all_products)\n",
    "\n",
    "writeToJson(all_products)\n",
    "writeToCSV(products=all_products, headers=[\n",
    "           'name', 'url', 'price', 'priceNumber'])\n"
   ]
  }
 ],
 "metadata": {
  "interpreter": {
   "hash": "6ce7d0d27c656a81bfc0368dc83d49e9af3d532169f8d35b6257c96c10181583"
  },
  "kernelspec": {
   "display_name": "Python 3.9.7 64-bit (windows store)",
   "name": "python3"
  },
  "language_info": {
   "codemirror_mode": {
    "name": "ipython",
    "version": 3
   },
   "file_extension": ".py",
   "mimetype": "text/x-python",
   "name": "python",
   "nbconvert_exporter": "python",
   "pygments_lexer": "ipython3",
   "version": "3.9.7"
  },
  "orig_nbformat": 4
 },
 "nbformat": 4,
 "nbformat_minor": 2
}
